{
 "cells": [
  {
   "cell_type": "code",
   "execution_count": 3,
   "metadata": {},
   "outputs": [
    {
     "name": "stdout",
     "output_type": "stream",
     "text": [
      "['Natural', 'Language', 'Processing', 'fascinating']\n"
     ]
    },
    {
     "name": "stderr",
     "output_type": "stream",
     "text": [
      "[nltk_data] Downloading package punkt to C:\\Users\\Harikant\n",
      "[nltk_data]     Bajaj\\AppData\\Roaming\\nltk_data...\n",
      "[nltk_data]   Package punkt is already up-to-date!\n"
     ]
    }
   ],
   "source": [
    "import nltk\n",
    "from nltk.tokenize import word_tokenize\n",
    "\n",
    "# Download necessary resources for tokenization\n",
    "nltk.download('punkt')\n",
    "\n",
    "# Define the sentence\n",
    "sentence = \"Natural Language Processing is fascinating\"\n",
    "\n",
    "# Tokenize the sentence\n",
    "tokens = word_tokenize(sentence)\n",
    "\n",
    "# Print the tokens\n",
    "print(tokens)\n"
   ]
  },
  {
   "cell_type": "code",
   "execution_count": 9,
   "metadata": {},
   "outputs": [
    {
     "name": "stdout",
     "output_type": "stream",
     "text": [
      "The: DET\n",
      "quick: ADJ\n",
      "brown: ADJ\n",
      "fox: NOUN\n",
      "jumps: VERB\n",
      "over: ADP\n",
      "the: DET\n",
      "lazy: ADJ\n",
      "dog: NOUN\n",
      ".: PUNCT\n"
     ]
    }
   ],
   "source": [
    "import spacy\n",
    "\n",
    "# Load the English language model\n",
    "nlp = spacy.load(\"en_core_web_sm\")\n",
    "\n",
    "# Define the sentence\n",
    "sentence = \"The quick brown fox jumps over the lazy dog.\"\n",
    "\n",
    "# Process the sentence using the language model\n",
    "doc = nlp(sentence)\n",
    "\n",
    "# Perform POS tagging and print each word with its POS tag\n",
    "for token in doc:\n",
    "    print(f\"{token.text}: {token.pos_}\")\n"
   ]
  },
  {
   "cell_type": "code",
   "execution_count": 10,
   "metadata": {},
   "outputs": [
    {
     "name": "stdout",
     "output_type": "stream",
     "text": [
      "Polarity: 0.3352272727272727\n",
      "Subjectivity: 0.5272727272727272\n"
     ]
    }
   ],
   "source": [
    "from textblob import TextBlob\n",
    "\n",
    "sentence = \"I love learning new things!\"\n",
    "\n",
    "blob = TextBlob(sentence)\n",
    "\n",
    "sentiment = blob.sentiment\n",
    "\n",
    "print(f\"Polarity: {sentiment.polarity}\")\n",
    "print(f\"Subjectivity: {sentiment.subjectivity}\")\n"
   ]
  },
  {
   "cell_type": "code",
   "execution_count": 11,
   "metadata": {},
   "outputs": [
    {
     "name": "stdout",
     "output_type": "stream",
     "text": [
      "hello world nlp is fun\n"
     ]
    }
   ],
   "source": [
    "import string\n",
    "\n",
    "def clean_text(text):\n",
    "    # Convert text to lowercase\n",
    "    text = text.lower()\n",
    "    \n",
    "    # Remove punctuation using string.punctuation\n",
    "    text = text.translate(str.maketrans('', '', string.punctuation))\n",
    "    \n",
    "    return text\n",
    "\n",
    "# Example usage\n",
    "sentence = \"Hello, World! NLP is fun.\"\n",
    "cleaned_sentence = clean_text(sentence)\n",
    "print(cleaned_sentence)\n"
   ]
  }
 ],
 "metadata": {
  "kernelspec": {
   "display_name": "venv",
   "language": "python",
   "name": "python3"
  },
  "language_info": {
   "codemirror_mode": {
    "name": "ipython",
    "version": 3
   },
   "file_extension": ".py",
   "mimetype": "text/x-python",
   "name": "python",
   "nbconvert_exporter": "python",
   "pygments_lexer": "ipython3",
   "version": "3.11.0"
  }
 },
 "nbformat": 4,
 "nbformat_minor": 2
}
