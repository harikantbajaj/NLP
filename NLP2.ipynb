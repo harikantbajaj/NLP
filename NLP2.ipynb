{
 "cells": [
  {
   "cell_type": "code",
   "execution_count": 1,
   "metadata": {},
   "outputs": [
    {
     "data": {
      "text/plain": [
       "(['Hello everyone.', 'Welcome to the Class.', 'You are studying NLP.'],\n",
       " ['Hello everyone.', 'Welcome to the Class.', 'You are studying NLP.'])"
      ]
     },
     "execution_count": 1,
     "metadata": {},
     "output_type": "execute_result"
    }
   ],
   "source": [
    "#1\n",
    "from nltk.tokenize import sent_tokenize, PunktSentenceTokenizer\n",
    "\n",
    "paragraph = \"Hello everyone. Welcome to the Class. You are studying NLP.\"\n",
    "\n",
    "# Using sent_tokenize\n",
    "sent_tokenize_result = sent_tokenize(paragraph)\n",
    "\n",
    "# Using PunktSentenceTokenizer\n",
    "punkt_tokenizer = PunktSentenceTokenizer()\n",
    "punkt_tokenize_result = punkt_tokenizer.tokenize(paragraph)\n",
    "\n",
    "sent_tokenize_result, punkt_tokenize_result\n"
   ]
  },
  {
   "cell_type": "code",
   "execution_count": 2,
   "metadata": {},
   "outputs": [
    {
     "data": {
      "text/plain": [
       "(['Hello', 'everyone', '.', 'Welcome', 'to', 'Class', '.'],\n",
       " ['Hello', 'everyone.', 'Welcome', 'to', 'Class', '.'],\n",
       " ['Hello', 'everyone', '.', 'Welcome', 'to', 'Class', '.'])"
      ]
     },
     "execution_count": 2,
     "metadata": {},
     "output_type": "execute_result"
    }
   ],
   "source": [
    "#2\n",
    "from nltk.tokenize import word_tokenize, TreebankWordTokenizer, WordPunctTokenizer\n",
    "\n",
    "sentence = \"Hello everyone. Welcome to Class.\"\n",
    "\n",
    "# Using word_tokenize\n",
    "word_tokenize_result = word_tokenize(sentence)\n",
    "\n",
    "# Using TreebankWordTokenizer\n",
    "treebank_tokenizer = TreebankWordTokenizer()\n",
    "treebank_tokenize_result = treebank_tokenizer.tokenize(sentence)\n",
    "\n",
    "# Using WordPunctTokenizer\n",
    "word_punct_tokenizer = WordPunctTokenizer()\n",
    "word_punct_tokenize_result = word_punct_tokenizer.tokenize(sentence)\n",
    "\n",
    "word_tokenize_result, treebank_tokenize_result, word_punct_tokenize_result\n"
   ]
  },
  {
   "cell_type": "code",
   "execution_count": 3,
   "metadata": {},
   "outputs": [
    {
     "data": {
      "text/plain": [
       "['run', 'jump', 'happili', 'run', 'happili']"
      ]
     },
     "execution_count": 3,
     "metadata": {},
     "output_type": "execute_result"
    }
   ],
   "source": [
    "from nltk.stem import PorterStemmer\n",
    "\n",
    "words = [\"running\", \"jumps\", \"happily\", \"running\", \"happily\"]\n",
    "porter_stemmer = PorterStemmer()\n",
    "porter_stemmed_words = [porter_stemmer.stem(word) for word in words]\n",
    "\n",
    "porter_stemmed_words\n"
   ]
  },
  {
   "cell_type": "code",
   "execution_count": 4,
   "metadata": {},
   "outputs": [
    {
     "data": {
      "text/plain": [
       "['run', 'jump', 'happili', 'quick', 'fox']"
      ]
     },
     "execution_count": 4,
     "metadata": {},
     "output_type": "execute_result"
    }
   ],
   "source": [
    "from nltk.stem import SnowballStemmer\n",
    "\n",
    "words = ['running', 'jumped', 'happily', 'quickly', 'foxes']\n",
    "snowball_stemmer = SnowballStemmer(\"english\")\n",
    "snowball_stemmed_words = [snowball_stemmer.stem(word) for word in words]\n",
    "\n",
    "snowball_stemmed_words\n"
   ]
  },
  {
   "cell_type": "code",
   "execution_count": 5,
   "metadata": {},
   "outputs": [
    {
     "data": {
      "text/plain": [
       "['run', 'jump', 'happy', 'quick', 'fox']"
      ]
     },
     "execution_count": 5,
     "metadata": {},
     "output_type": "execute_result"
    }
   ],
   "source": [
    "from nltk.stem import LancasterStemmer\n",
    "\n",
    "words = ['running', 'jumped', 'happily', 'quickly', 'foxes']\n",
    "lancaster_stemmer = LancasterStemmer()\n",
    "lancaster_stemmed_words = [lancaster_stemmer.stem(word) for word in words]\n",
    "\n",
    "lancaster_stemmed_words\n"
   ]
  }
 ],
 "metadata": {
  "kernelspec": {
   "display_name": "venv",
   "language": "python",
   "name": "python3"
  },
  "language_info": {
   "codemirror_mode": {
    "name": "ipython",
    "version": 3
   },
   "file_extension": ".py",
   "mimetype": "text/x-python",
   "name": "python",
   "nbconvert_exporter": "python",
   "pygments_lexer": "ipython3",
   "version": "3.11.0"
  }
 },
 "nbformat": 4,
 "nbformat_minor": 2
}
